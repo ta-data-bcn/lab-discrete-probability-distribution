{
 "cells": [
  {
   "cell_type": "markdown",
   "metadata": {},
   "source": [
    "# Before your start:\n",
    "\n",
    "    Read the README.md file\n",
    "    Comment as much as you can and use the resources (README.md file)\n",
    "    Happy learning!\n",
    "\n",
    "*Notes:* \n",
    "\n",
    "- Solve the questions with python.\n",
    "\n",
    "- Round the final answer to three decimal places."
   ]
  },
  {
   "cell_type": "markdown",
   "metadata": {},
   "source": [
    "## Bernoulli's Distribution\n",
    "\n",
    "In a basket containing 100 fruits, there are 60 apples and 40 oranges. \n",
    "\n",
    "A fruit is picked randomly from the basket. \n",
    "\n",
    "1. **What is the probability that the fruit is apple?**\n",
    "1. **What is the probability that it is an orange?**"
   ]
  },
  {
   "cell_type": "code",
   "execution_count": 1,
   "metadata": {},
   "outputs": [],
   "source": [
    "\"\"\"\n",
    "Calculate:\n",
    "p = probability that the fruit is an apple \n",
    "q = probability that the fruit is an orange\n",
    "\"\"\"\n",
    "# Wahrscheinlichkeit = Zahl/Population\n",
    "# your code here\n",
    "probability_apple = 60/100\n",
    "probability_oranges = 40/100\n"
   ]
  },
  {
   "cell_type": "markdown",
   "metadata": {},
   "source": [
    "Now we take a random sample of 20 fruits from the basket. After each fruit is taken, a new fruit of the same type is placed in the basket. Therefore, every time we are taking 1 fruit from the same 100 fruits (sample with replacements). \n",
    "\n",
    "1. **What is the probability that the first 5 fruits are all apples?**\n",
    "\n",
    "1. **What is the probability that the first 5 fruits are all apples and the next 15 fruits are all oranges?**\n",
    "\n",
    "You can include the `p` and `q` probabilities you previous calculated in your solution."
   ]
  },
  {
   "cell_type": "code",
   "execution_count": 7,
   "metadata": {},
   "outputs": [
    {
     "name": "stdout",
     "output_type": "stream",
     "text": [
      "The probabilty that all 5 fruits are apple in this case is 0.07775999999999998\n",
      "The probabilty that all 5 fruit are apple in this case is 8.349416423424006e-08\n"
     ]
    }
   ],
   "source": [
    "# your code here\n",
    "# mit zurücklegen > Nenner bleibt gleich, also am Pfad entlang multiplizieren > 1. Pfadregel\n",
    "# 2. Pfadregel wäre die Wahrscheinlichkeiten verschiedener Szenarien miteinander zu addieren\n",
    "# https://www.youtube.com/watch?v=gw0AaVLkRE0&ab_channel=MathebyDanielJung\n",
    "\n",
    "print('The probabilty that all 5 fruits are apple in this case is ' + str((probability_apple**5)))\n",
    "print('The probabilty that all 5 fruit are apple in this case is ' + str((probability_apple**5)* (probability_oranges**15)))\n"
   ]
  },
  {
   "cell_type": "markdown",
   "metadata": {},
   "source": [
    "## Binomial Distribution\n",
    "\n",
    "Similar to the above problem, this time again we randomly sample 20 fruits, but this time we don't add any more fruits after selecting a fruit (sample without replacements).\n",
    "\n",
    "**What is the probability that this time the sample contains 5 apples and 15 oranges?**\n",
    "\n",
    "Please note that this time the order of the fruits being picked does not matter."
   ]
  },
  {
   "cell_type": "code",
   "execution_count": 10,
   "metadata": {},
   "outputs": [
    {
     "name": "stdout",
     "output_type": "stream",
     "text": [
      "The probability apples is: 0.0012944935222876511\n",
      "The probability oranges is: 0.07464701952887058\n"
     ]
    }
   ],
   "source": [
    "# Binominalverteilung und Bernouilli D. Jung\n",
    "# https://www.youtube.com/watch?v=qRkUCU7oJ34&ab_channel=MathebyDanielJung\n",
    "\n",
    "# your code here# \n",
    "from scipy import stats\n",
    "from scipy.stats import binom\n",
    "\n",
    "# Anzahl = 20\n",
    "\n",
    "n=20\n",
    "\n",
    "# Wahrscheinlichkeit für Äpfel und Orangen\n",
    "probability_apple= 60/100\n",
    "probability_orange = 40/100\n",
    "\n",
    "p_apple= 60/100\n",
    "p_orange = 40/100\n",
    "\n",
    "# Dokumentation binom from scipy\n",
    "# https://docs.scipy.org/doc/scipy/reference/generated/scipy.stats.binom.html\n",
    "\n",
    "print(\"The probability apples is:\", binom.pmf(5, 20, 0.6))\n",
    "print(\"The probability oranges is:\", binom.pmf(5, 20, 0.4))\n",
    "\n",
    "\n",
    "\n"
   ]
  },
  {
   "cell_type": "code",
   "execution_count": null,
   "metadata": {},
   "outputs": [],
   "source": [
    "\n"
   ]
  },
  {
   "cell_type": "markdown",
   "metadata": {},
   "source": [
    "In the lesson we also discussed CDF (cumulative distribution function). In Python, this can be calculated with the ```binom()``` function. Read the documentation in order to learn how to use it.\n",
    "\n",
    "\n",
    "In the context of the above problem, **what is the probability that from the 20 selected fruits, less than 5 fruits picked are apples?**\n",
    "\n",
    "Write the formula and calculate the probability below."
   ]
  },
  {
   "cell_type": "code",
   "execution_count": 14,
   "metadata": {},
   "outputs": [
    {
     "name": "stdout",
     "output_type": "stream",
     "text": [
      " The probability in this case is: 0.0003170311211686301\n"
     ]
    }
   ],
   "source": [
    "# your code here\n",
    "# CDF = kumulative Verteilungsfunktion\n",
    "# https://www.youtube.com/watch?v=fkLaU1o46W4&ab_channel=MathebyDanielJung\n",
    "# addiert die Wahrscheinlichkeiten von 1 Apfel, 2 Äpfel... 4 Äpfel zusammen\n",
    "\n",
    "# documentation CDF\n",
    "# https://docs.scipy.org/doc/scipy/reference/generated/scipy.stats.binom.html\n",
    "# cdf(k = number success, n = number population, p = probability, loc=0)\n",
    "\n",
    "print(' The probability in this case is: ' + str(binom.cdf(4, 20, 0.6)))"
   ]
  },
  {
   "cell_type": "markdown",
   "metadata": {},
   "source": [
    "***Optional self learning: We will see matplotlib tomorrow.***\n",
    "\n",
    "**Plot the PDF (probability distributiom function) for the above binomial distribution.**\n",
    "\n",
    "*Hint: The range of x in a binomial distribution is from `0` to `n`.*"
   ]
  },
  {
   "cell_type": "code",
   "execution_count": null,
   "metadata": {},
   "outputs": [],
   "source": [
    "# your code here\n",
    "\n",
    "\n",
    "\n",
    "\n",
    "# Please label the axes and give a title to the plot "
   ]
  },
  {
   "cell_type": "markdown",
   "metadata": {},
   "source": [
    "## Poisson Distribution\n",
    "\n",
    "In this challenge you are required to use the Math library in Python to solve the problems.\n",
    "\n",
    "In the UEFA champions league tournament, the average number of goals scored in a match is 2.3. \n",
    "\n",
    "**What is the probability that the number of goals scored in a match is 5?**\n",
    "\n",
    "*Hint: Use the exp() in the math library*\n",
    "\n",
    "And to calculate the factorial, you can use the following code:\n",
    "\n",
    "```python\n",
    "import math\n",
    "math.factorial(n) # n is the number you want to find the factorial of\n",
    "```"
   ]
  },
  {
   "cell_type": "code",
   "execution_count": 16,
   "metadata": {},
   "outputs": [
    {
     "data": {
      "text/plain": [
       "0.0537750255819468"
      ]
     },
     "execution_count": 16,
     "metadata": {},
     "output_type": "execute_result"
    }
   ],
   "source": [
    "# your code here\n",
    "# \n",
    "# mathematische Lösung\n",
    "\n",
    "import math\n",
    "math.factorial(n)\n",
    "\n",
    "def calculate_poisson(k, n):\n",
    "    return math.exp(-n)*(n**k)/math.factorial(k)\n",
    "\n",
    "result = calculate_poisson(5, 2.3)\n",
    "\n",
    "# probability for 5 goals with average goal score 2.3:\n",
    "result\n",
    "\n",
    "# Scipy-Lösung\n",
    "# documentation Poission Scipy\n",
    "# https://docs.scipy.org/doc/scipy/reference/generated/scipy.stats.poisson.html\n",
    "\n"
   ]
  },
  {
   "cell_type": "markdown",
   "metadata": {},
   "source": [
    "***Optional self learning: We will see matplotlib tomorrow.***\n",
    "\n",
    "\n",
    "**Draw a poisson probability distribution plot for the number of goals to be between 0 to 10.**"
   ]
  },
  {
   "cell_type": "code",
   "execution_count": 31,
   "metadata": {},
   "outputs": [
    {
     "data": {
      "text/plain": [
       "<matplotlib.collections.LineCollection at 0x23211492b80>"
      ]
     },
     "execution_count": 31,
     "metadata": {},
     "output_type": "execute_result"
    },
    {
     "data": {
      "image/png": "[encoded data removed]",
      "text/plain": [
       "<Figure size 432x288 with 1 Axes>"
      ]
     },
     "metadata": {
      "needs_background": "light"
     },
     "output_type": "display_data"
    }
   ],
   "source": [
    "# your code here\n",
    "%matplotlib inline\n",
    "from scipy import stats\n",
    "from scipy.stats import binom\n",
    "import numpy as np\n",
    "import matplotlib.pyplot as plt\n",
    "\n",
    "\n",
    "x = [0, 1, 2, 3, 4, 5, 6, 7, 8, 9]\n",
    "\n",
    "\n",
    "p1 = calculate_poisson(1, 2.3)\n",
    "p2 = calculate_poisson(2, 2.3)\n",
    "p3 = calculate_poisson(3, 2.3)\n",
    "p4 = calculate_poisson(4, 2.3)\n",
    "p5 = calculate_poisson(5, 2.3)\n",
    "p6 = calculate_poisson(6, 2.3)\n",
    "p7 = calculate_poisson(7, 2.3)\n",
    "p8 = calculate_poisson(8, 2.3)\n",
    "p9 = calculate_poisson(9, 2.3)\n",
    "p10 = calculate_poisson(10, 2.3)\n",
    "\n",
    "list = [p1, p2, p3, p4, p5, p6, p7, p8, p9, p10]\n",
    "list\n",
    "\n",
    "fig, ax = plt.subplots(1, 1)\n",
    "ax.plot(x, list, 'bo')\n",
    "ax.vlines(x, 0, list, colors='r',lw=9,  alpha= 1)\n",
    "\n",
    "# Please label the axes and give a title to the plot "
   ]
  },
  {
   "cell_type": "code",
   "execution_count": null,
   "metadata": {},
   "outputs": [],
   "source": []
  }
 ],
 "metadata": {
  "kernelspec": {
   "display_name": "Python 3",
   "language": "python",
   "name": "python3"
  },
  "language_info": {
   "codemirror_mode": {
    "name": "ipython",
    "version": 3
   },
   "file_extension": ".py",
   "mimetype": "text/x-python",
   "name": "python",
   "nbconvert_exporter": "python",
   "pygments_lexer": "ipython3",
   "version": "3.8.3"
  },
  "toc": {
   "base_numbering": 1,
   "nav_menu": {},
   "number_sections": true,
   "sideBar": true,
   "skip_h1_title": false,
   "title_cell": "Table of Contents",
   "title_sidebar": "Contents",
   "toc_cell": false,
   "toc_position": {},
   "toc_section_display": true,
   "toc_window_display": false
  }
 },
 "nbformat": 4,
 "nbformat_minor": 4
}
