{
 "cells": [
  {
   "cell_type": "markdown",
   "metadata": {},
   "source": [
    "# Before your start:\n",
    "\n",
    "    Read the README.md file\n",
    "    Comment as much as you can and use the resources (README.md file)\n",
    "    Happy learning!\n",
    "\n",
    "*Notes:* \n",
    "\n",
    "- Solve the questions with python.\n",
    "\n",
    "- Round the final answer to three decimal places."
   ]
  },
  {
   "cell_type": "markdown",
   "metadata": {},
   "source": [
    "## Bernoulli's Distribution\n",
    "\n",
    "In a basket containing 100 fruits, there are 60 apples and 40 oranges. \n",
    "\n",
    "A fruit is picked randomly from the basket. \n",
    "\n",
    "1. **What is the probability that the fruit is apple?**\n",
    "1. **What is the probability that it is an orange?**"
   ]
  },
  {
   "cell_type": "code",
   "execution_count": 2,
   "metadata": {},
   "outputs": [],
   "source": [
    "from scipy.stats import poisson\n",
    "from scipy.stats import norm\n",
    "from scipy.stats import rv_discrete\n",
    "from scipy.stats import rv_continuous\n",
    "\n",
    "import math\n",
    "import matplotlib.pyplot as plt\n",
    "import numpy as np\n",
    "import statistics"
   ]
  },
  {
   "cell_type": "code",
   "execution_count": 3,
   "metadata": {},
   "outputs": [],
   "source": [
    "basket = list(set((['Apple'] * 60) + (['Orange'] * 40)))"
   ]
  },
  {
   "cell_type": "code",
   "execution_count": 4,
   "metadata": {},
   "outputs": [
    {
     "name": "stdout",
     "output_type": "stream",
     "text": [
      "0.6, 0.4\n"
     ]
    }
   ],
   "source": [
    "\"\"\"\n",
    "Calculate:\n",
    "p = probability that the fruit is an apple 60%\n",
    "q = probability that the fruit is an orange 40%\n",
    "\"\"\"\n",
    "\n",
    "p = 60\n",
    "q = 40\n",
    "total = p + q\n",
    "\n",
    "prob_p = p / total\n",
    "prob_q = q / total\n",
    "\n",
    "print(f'{prob_p}, {prob_q}')"
   ]
  },
  {
   "cell_type": "markdown",
   "metadata": {},
   "source": [
    "Now we take a random sample of 20 fruits from the basket. After each fruit is taken, a new fruit of the same type is placed in the basket. Therefore, every time we are taking 1 fruit from 100 fruits. \n",
    "\n",
    "1. **What is the probability that the first 5 fruits are all apples?**\n",
    "\n",
    "1. **What is the probability that the first 5 fruits are all apples and the next 15 fruits are all oranges?**\n",
    "\n",
    "You can include the `p` and `q` probabilities you previous calculated in your solution."
   ]
  },
  {
   "cell_type": "code",
   "execution_count": 5,
   "metadata": {},
   "outputs": [
    {
     "name": "stdout",
     "output_type": "stream",
     "text": [
      "The probability of having the first 5 pickings as apples are 0.07775999999999998\n",
      "The probability of having the first 5 pickings as apples and then 15 oranges is 8.349416423424006e-08\n"
     ]
    }
   ],
   "source": [
    "prob_five_apples = prob_p**5\n",
    "prob_five_apples_plus = prob_p**5 * prob_q**15\n",
    "print(f'The probability of having the first 5 pickings as apples are {prob_five_apples}')\n",
    "print(f'The probability of having the first 5 pickings as apples and then 15 oranges is {prob_five_apples_plus}')"
   ]
  },
  {
   "cell_type": "markdown",
   "metadata": {},
   "source": [
    "## Binomial Distribution\n",
    "\n",
    "Similar to the above problem, this time again we randomly sample 20 fruits.\n",
    "\n",
    "**What is the probability that this time the sample contains 5 apples and 15 oranges?**\n",
    "\n",
    "Please note that this time the order of the fruits being picked does not matter."
   ]
  },
  {
   "cell_type": "code",
   "execution_count": 6,
   "metadata": {},
   "outputs": [
    {
     "name": "stdout",
     "output_type": "stream",
     "text": [
      "8.349416423424006e-08\n",
      "8.349416423424006e-08\n",
      "15504.0\n",
      "15504.0\n",
      "0.0012944935222876579\n",
      "0.0012944935222876579\n",
      "The probability of a sample that contains 5 apples and 15 oranges is 1.675713479244707e-06\n"
     ]
    }
   ],
   "source": [
    "fact_ttl = math.factorial(20)\n",
    "fact_p_tries = math.factorial(5)\n",
    "fact_q_tries = math.factorial(15)\n",
    "fact_tw_min_fi = math.factorial(20 - 5)\n",
    "fact_tw_min_fitn = math.factorial(20 - 15)\n",
    "\n",
    "prob_per_try_p = (prob_p**5) * ((1 - prob_p)**(20-5)) #probability for each try in apples\n",
    "prob_per_try_q = (prob_q**15) * ((1 - prob_q)**(20-15)) #probability for each try in oranges\n",
    "out_p = fact_ttl / (fact_p_tries * fact_tw_min_fi) #possible outcomes with the result we want\n",
    "out_q = fact_ttl / (fact_q_tries * fact_tw_min_fitn) #possible outcomes with the result we want\n",
    "prob_p_five = prob_per_try_p * out_p #probability of 5 apples\n",
    "prob_q_fitn = prob_per_try_q * out_q #probability of 15 oranges\n",
    "ttl_prob = prob_p_five * prob_q_fitn # the final probability for the desired outcome\n",
    "\n",
    "\n",
    "print(prob_per_try_p)\n",
    "print(prob_per_try_q)\n",
    "print(out_p)\n",
    "print(out_q)\n",
    "print(prob_p_five)\n",
    "print(prob_q_fitn)\n",
    "print(f'The probability of a sample that contains 5 apples and 15 oranges is {ttl_prob}')"
   ]
  },
  {
   "cell_type": "code",
   "execution_count": 22,
   "metadata": {},
   "outputs": [
    {
     "name": "stdout",
     "output_type": "stream",
     "text": [
      "1.6757134792446896e-06\n"
     ]
    }
   ],
   "source": [
    "from scipy.stats import binom\n",
    "# Probability mass function; pmf(k, n, p, loc=0)\n",
    "# Where k=successes, n= no. of independent trials, p=probability of success\n",
    "\n",
    "#For 5 apples\n",
    "# binomial = binom(20, 0.6)\n",
    "# apple_5 = binomial.pmf(5)\n",
    "apples5 = binom.pmf(5,20,0.60)\n",
    "\n",
    "#For 15 oranges\n",
    "# binomial = binom(20, 0.4)\n",
    "# orange_15 = binomial.pmf(15)\n",
    "oranges15=binom.pmf(15,20,0.40)\n",
    "\n",
    "P_apples5_oranges15=apples5*oranges15\n",
    "print(P_apples5_oranges15)"
   ]
  },
  {
   "cell_type": "markdown",
   "metadata": {},
   "source": [
    "In the lesson we also discussed CDF (cumulative distribution function). In the context of the above problem, **what is the probability that less than 5 fruits picked are apples?**\n",
    "\n",
    "Write the formula and calculate the probability below."
   ]
  },
  {
   "cell_type": "code",
   "execution_count": 7,
   "metadata": {
    "scrolled": true
   },
   "outputs": [
    {
     "name": "stdout",
     "output_type": "stream",
     "text": [
      "0.0003170201260523523\n"
     ]
    }
   ],
   "source": [
    "fact_ttl = math.factorial(20)\n",
    "fact_four = math.factorial(4)\n",
    "fact_three = math.factorial(3)\n",
    "\n",
    "prob_four = (prob_p**4) * ((1 - prob_p)**(20-4)) #probability for each try in apples (with 4 tries)\n",
    "prob_three = (prob_p**3) * ((1 - prob_p)**(20-3)) #probability for each try in apples (with 3 tries)\n",
    "prob_two = (prob_p**2) * ((1 - prob_p)**(20-2)) #probability for each try in apples (with 2 tries)\n",
    "prob_one = (prob_p**1) * ((1 - prob_p)**(20-1)) #probability for each try in apples (with 1 tries)\n",
    "\n",
    "out_four = fact_ttl / (fact_four * math.factorial(20 - 4)) #possible outcomes with the result we want\n",
    "out_three = fact_ttl / (fact_three * math.factorial(20 - 3))\n",
    "out_two = fact_ttl / (2 * math.factorial(20 - 2))\n",
    "out_one = fact_ttl / (1 * math.factorial(20 - 1))\n",
    "\n",
    "ttl_prob_four = prob_four * out_four\n",
    "ttl_prob_three = prob_three * out_three\n",
    "ttl_prob_two = prob_two * out_two\n",
    "ttl_prob_one = prob_one * out_one\n",
    "ttl_prob = ttl_prob_four + ttl_prob_three + ttl_prob_two + ttl_prob_one\n",
    "\n",
    "print(ttl_prob)"
   ]
  },
  {
   "cell_type": "code",
   "execution_count": 23,
   "metadata": {},
   "outputs": [
    {
     "name": "stdout",
     "output_type": "stream",
     "text": [
      "0.0003170311211686301\n"
     ]
    }
   ],
   "source": [
    "# cumulative distribution will return the cumulative probability from 5 to 0 (everything below 5)\n",
    "# cdf(k, n, p, loc=0)\n",
    "\n",
    "P_cum_apples5 = binom.cdf(4,20,0.60)\n",
    "print(P_cum_apples5)"
   ]
  },
  {
   "cell_type": "markdown",
   "metadata": {},
   "source": [
    "**Plot the PDF (probability distribution function) for the above binomial distribution.**\n",
    "\n",
    "*Hint: The range of x in a binomial distribution is from `0` to `n`.*"
   ]
  },
  {
   "cell_type": "code",
   "execution_count": 40,
   "metadata": {},
   "outputs": [
    {
     "data": {
      "image/png": "[encoded data removed]",
      "text/plain": [
       "<Figure size 432x288 with 1 Axes>"
      ]
     },
     "metadata": {
      "needs_background": "light"
     },
     "output_type": "display_data"
    }
   ],
   "source": [
    "# your code here\n",
    "x= np.arange(0,20)\n",
    "plt.plot(x, norm.pdf(x))\n",
    "\n",
    "# Please label the axes and give a title to the plot \n",
    "plt.title('Distribution plot 60/40 apples/oranges choosing 20')\n",
    "plt.xlabel('number_of_fruits')\n",
    "plt.ylabel('Probability')\n",
    "plt.show()"
   ]
  },
  {
   "cell_type": "markdown",
   "metadata": {},
   "source": [
    "## Poisson Distribution\n",
    "\n",
    "In this challenge you are required to use the Math library in python to solve the problems.\n",
    "\n",
    "In the UEFA champions league tournament, the average number of goals scored in a match is 2.3. \n",
    "\n",
    "**What is the probability that the number of goals scored in a match is 5?**\n",
    "\n",
    "*Hint: Use the exp() in the math library*\n",
    "\n",
    "And to calculate the factorial, you can use the following code:\n",
    "\n",
    "```python\n",
    "import math\n",
    "math.factorial(n) # n is the number you want to find the factorial of\n",
    "```"
   ]
  },
  {
   "cell_type": "code",
   "execution_count": 9,
   "metadata": {},
   "outputs": [
    {
     "data": {
      "text/plain": [
       "0.053775025581946814"
      ]
     },
     "execution_count": 9,
     "metadata": {},
     "output_type": "execute_result"
    }
   ],
   "source": [
    "#poisson.pmf(value,mean)\n",
    "poisson.pmf(5,2.3)"
   ]
  },
  {
   "cell_type": "markdown",
   "metadata": {},
   "source": [
    "**Draw a poisson probability distribution plot for the number of goals to be between 0 to 10.**"
   ]
  },
  {
   "cell_type": "code",
   "execution_count": 31,
   "metadata": {},
   "outputs": [
    {
     "data": {
      "image/png": "[encoded data removed]",
      "text/plain": [
       "<Figure size 432x288 with 1 Axes>"
      ]
     },
     "metadata": {
      "needs_background": "light"
     },
     "output_type": "display_data"
    }
   ],
   "source": [
    "# create a range of numbers we want to study 0-10\n",
    "x = np.arange(0,11)\n",
    "\n",
    "#generate probabilities for every value from 0-10 (i) with mean 2.3, so we can draw the lines between points\n",
    "poisson_dist = [poisson.pmf(i,2.3) for i in  x]\n",
    "\n",
    "#plot the lines\n",
    "plt.plot(poisson_dist,label = \"Poisson Distribution with mean 2.3\")\n",
    "\n",
    "# Please label the axes and give a title to the plot \n",
    "plt.title('Distribution plot goals in UEFA Champions')\n",
    "plt.xlabel('number_of_goals')\n",
    "plt.ylabel('Probability')\n",
    "plt.show()"
   ]
  },
  {
   "cell_type": "code",
   "execution_count": 34,
   "metadata": {},
   "outputs": [
    {
     "data": {
      "image/png": "[encoded data removed]",
      "text/plain": [
       "<Figure size 432x288 with 1 Axes>"
      ]
     },
     "metadata": {
      "needs_background": "light"
     },
     "output_type": "display_data"
    }
   ],
   "source": [
    "#fancy way of doing the same\n",
    "\n",
    "# create a range of numbers we want to study 0-10\n",
    "x = np.arange(0,11)\n",
    "\n",
    "#generate probabilities for every value from 0-10 (i) with mean 2.3, so we can draw the lines between points\n",
    "poisson_dist = [poisson.pmf(i,2.3) for i in  x]\n",
    "\n",
    "plt.plot(x, poisson_dist, 'bo')\n",
    "plt.vlines(x, 0, poisson_dist, colors='b', lw = 5, alpha=0.5)\n",
    "plt.show()"
   ]
  }
 ],
 "metadata": {
  "kernelspec": {
   "display_name": "Python 3",
   "language": "python",
   "name": "python3"
  },
  "language_info": {
   "codemirror_mode": {
    "name": "ipython",
    "version": 3
   },
   "file_extension": ".py",
   "mimetype": "text/x-python",
   "name": "python",
   "nbconvert_exporter": "python",
   "pygments_lexer": "ipython3",
   "version": "3.8.3"
  }
 },
 "nbformat": 4,
 "nbformat_minor": 4
}
